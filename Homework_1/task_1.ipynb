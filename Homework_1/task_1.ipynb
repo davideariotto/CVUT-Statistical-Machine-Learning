{
 "cells": [
  {
   "cell_type": "code",
   "execution_count": 16,
   "metadata": {},
   "outputs": [],
   "source": [
    "from PIL import Image\n",
    "import matplotlib.pyplot as plt\n",
    "import numpy as np\n",
    "from os import listdir\n",
    "from os.path import isfile, join"
   ]
  },
  {
   "cell_type": "code",
   "execution_count": 17,
   "metadata": {},
   "outputs": [],
   "source": [
    "# load single example\n",
    "def load_example( img_path ):\n",
    "\n",
    "    Y = img_path[img_path.rfind('_')+1:-4]\n",
    "\n",
    "    img = Image.open( img_path )\n",
    "    img_mat = np.asarray( img )\n",
    "    \n",
    "    n_letters = len( Y )\n",
    "    im_height = int(img_mat.shape[0])\n",
    "    im_width = int(img_mat.shape[1]/n_letters)\n",
    "    n_pixels = im_height*im_width\n",
    "    \n",
    "    X = np.zeros( [int(n_pixels+n_pixels*(n_pixels-1)/2),n_letters])\n",
    "    for i in range(n_letters):\n",
    "        \n",
    "        # single letter\n",
    "        letter = img_mat[:,i*im_width:(i+1)*im_width]/255\n",
    "        \n",
    "        # compute features\n",
    "        x = letter.flatten()\n",
    "        X[0:len(x),i] = x\n",
    "        cnt = n_pixels \n",
    "        for j in range(0,n_pixels-1):\n",
    "            for k in range(j+1,n_pixels):\n",
    "                X[cnt,i] = x[j]*x[k]\n",
    "                cnt = cnt + 1\n",
    "           \n",
    "        X[:,i] = X[:,i]/np.linalg.norm(X[:,i])\n",
    "        \n",
    "    return X, Y, img\n",
    "\n",
    "# load all examples from a folder    \n",
    "def load_examples( image_folder ):\n",
    "    \n",
    "    files = [f for f in listdir(image_folder) if isfile(join(image_folder, f))]\n",
    "\n",
    "    X = []\n",
    "    Y = []\n",
    "    img = []\n",
    "    for file in listdir(image_folder):\n",
    "        path = join(image_folder, file)\n",
    "        if isfile( path ):\n",
    "                        \n",
    "            X_,Y_,img_ = load_example( path )\n",
    "            X.append( X_ )\n",
    "            Y.append( Y_ )\n",
    "            img.append( img_ )\n",
    "        \n",
    "    return X, Y, img"
   ]
  },
  {
   "cell_type": "code",
   "execution_count": 18,
   "metadata": {},
   "outputs": [],
   "source": [
    "# Global Variables\n",
    "\n",
    "training_size = 1000\n",
    "testing_size = 500\n",
    "\n",
    "alpha = 0.01\n",
    "\n",
    "epochs = 30\n",
    "features = 8256\n",
    "labels = 26\n",
    "letterDict = {}\n",
    "L = ['a', 'b', 'c', 'd', 'e', 'f', 'g', 'h', 'i', 'j', 'k', 'l', 'm', 'n', 'o', 'p', 'q', 'r', 's', 't', 'u', 'v', 'w', 'x', 'y', 'z']\n",
    "for i in range(len(L)):\n",
    "    letterDict[L[i]] = i"
   ]
  },
  {
   "cell_type": "code",
   "execution_count": 19,
   "metadata": {},
   "outputs": [],
   "source": [
    "# Training Phase\n",
    "def train(trn_X, trn_Y):\n",
    "    \n",
    "    # Add one column to each element of trn_X (for biases)\n",
    "    X = np.vstack([np.hstack(trn_X), np.ones(np.hstack(trn_X).shape[1])])\n",
    "    \n",
    "    # Convert letters into numbers\n",
    "    Y = np.hstack([np.array([letterDict.get(l) for l in word]) for word in trn_Y])\n",
    "    \n",
    "    # Parameters\n",
    "    WB = np.zeros((labels, features+1)) # weight and biases\n",
    "    \n",
    "    for e in range(epochs):\n",
    "        print(f\"Epoch {e+1}\", end=\"\\r\")\n",
    "        flag = True\n",
    "        \n",
    "        for i in range (X.shape[1]):\n",
    "            # Extract the feature vector\n",
    "            iFeatures = X[:, i]\n",
    "            # Matrixt multiplication\n",
    "            mul = np.matmul(WB, iFeatures)\n",
    "            # Get the predicted label\n",
    "            p = np.argmax(mul)\n",
    "            \n",
    "            if p != Y[i]:\n",
    "                flag = False\n",
    "                \n",
    "                # Update parameters\n",
    "                temp1 = np.zeros((labels, X.shape[0]))\n",
    "                temp2 = np.zeros((labels, X.shape[0]))\n",
    "                temp1[Y[i], :] = 1\n",
    "                temp2[p, :] = 1\n",
    "                WB += (temp1 - temp2)*iFeatures\n",
    "                \n",
    "        if flag:\n",
    "            # No more misclassifications\n",
    "            print(\"\\nOptimum reached\")\n",
    "            break\n",
    "        \n",
    "    return WB\n",
    "\n",
    "# Testing Phase\n",
    "def test(tst_X, WB):\n",
    "    \n",
    "    predictions = []\n",
    "    for fm in tst_X:\n",
    "        # Add an element to each character feature vector (for biases)\n",
    "        fm = np.vstack([fm, np.ones(fm.shape[1])])\n",
    "        \n",
    "        # Matrix multiplication\n",
    "        mul = np.matmul(WB, fm)\n",
    "        \n",
    "        # Get the predicted label\n",
    "        p = np.argmax(mul, axis=0)\n",
    "        predictions.append(p)\n",
    "        \n",
    "    return predictions\n",
    "        "
   ]
  },
  {
   "cell_type": "code",
   "execution_count": 20,
   "metadata": {},
   "outputs": [],
   "source": [
    "# load data\n",
    "\n",
    "# load training examples\n",
    "trn_X, trn_Y, trn_img = load_examples( 'ocr_names_images/trn' )\n",
    "\n",
    "# load testing examples\n",
    "tst_X, tst_Y, tst_img = load_examples( 'ocr_names_images/tst' )"
   ]
  },
  {
   "cell_type": "code",
   "execution_count": 21,
   "metadata": {},
   "outputs": [
    {
     "name": "stdout",
     "output_type": "stream",
     "text": [
      "Training\n",
      "...\n",
      "Epoch 30\n",
      "Weights and biases Learned!\n",
      "\n",
      "Testing\n",
      "Predictions done\n"
     ]
    }
   ],
   "source": [
    "print(\"Training\")\n",
    "print(\"...\")\n",
    "WB = train(trn_X, trn_Y)\n",
    "print()\n",
    "print(\"Weights and biases Learned!\")\n",
    "print()\n",
    "print(\"Testing\")\n",
    "res = test(tst_X, WB)\n",
    "print(\"Predictions done\")\n"
   ]
  },
  {
   "cell_type": "code",
   "execution_count": 22,
   "metadata": {},
   "outputs": [
    {
     "name": "stdout",
     "output_type": "stream",
     "text": [
      "Sequence error:  0.7120\n",
      "Charachter error:  0.2611\n"
     ]
    }
   ],
   "source": [
    "\n",
    "# Convert letters into numbers\n",
    "Y = [np.array([letterDict.get(char) for char in word]) for word in tst_Y]\n",
    "\n",
    "# Sequence Error\n",
    "num = 0\n",
    "for i in range(testing_size):\n",
    "    if(tuple(res[i]) != tuple(Y[i])):\n",
    "        num+=1\n",
    "print(\"Sequence error: \", f\"{num/500:.4f}\")\n",
    "\n",
    "# Charachter Error\n",
    "num = 0\n",
    "word = 0\n",
    "for y in Y:\n",
    "    y = list(y)\n",
    "    for char in range(len(y)):\n",
    "        if(y[char] != list(res[word])[char]):\n",
    "            num+=1\n",
    "    word+=1\n",
    "print(\"Charachter error: \", f\"{num/sum([len(l) for l in tst_Y]):.4f}\")"
   ]
  }
 ],
 "metadata": {
  "kernelspec": {
   "display_name": "Python 3.9.12 ('base')",
   "language": "python",
   "name": "python3"
  },
  "language_info": {
   "codemirror_mode": {
    "name": "ipython",
    "version": 3
   },
   "file_extension": ".py",
   "mimetype": "text/x-python",
   "name": "python",
   "nbconvert_exporter": "python",
   "pygments_lexer": "ipython3",
   "version": "3.9.12"
  },
  "orig_nbformat": 4,
  "vscode": {
   "interpreter": {
    "hash": "88f7b7543d70d79bd452b7d88088dc1d51978716ddea3be3d6b50309937fe090"
   }
  }
 },
 "nbformat": 4,
 "nbformat_minor": 2
}
